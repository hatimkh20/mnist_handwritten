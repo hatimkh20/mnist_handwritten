{
  "nbformat": 4,
  "nbformat_minor": 0,
  "metadata": {
    "colab": {
      "name": "MNIST_Handwritten.ipynb",
      "provenance": [],
      "collapsed_sections": [],
      "authorship_tag": "ABX9TyP9ANq0ZS+ehxOJ4OuAA3X4",
      "include_colab_link": true
    },
    "kernelspec": {
      "name": "python3",
      "display_name": "Python 3"
    },
    "language_info": {
      "name": "python"
    }
  },
  "cells": [
    {
      "cell_type": "markdown",
      "metadata": {
        "id": "view-in-github",
        "colab_type": "text"
      },
      "source": [
        "<a href=\"https://colab.research.google.com/github/hatimkh20/mnist_handwritten/blob/main/MNIST_Handwritten.ipynb\" target=\"_parent\"><img src=\"https://colab.research.google.com/assets/colab-badge.svg\" alt=\"Open In Colab\"/></a>"
      ]
    },
    {
      "cell_type": "markdown",
      "source": [
        "**Deep Learning Assignment 01**\n",
        "\n",
        "Submitted by:\n",
        "Hatim Khuzema (CS182003) "
      ],
      "metadata": {
        "id": "QNOmagLVC8HS"
      }
    },
    {
      "cell_type": "markdown",
      "source": [
        "# MNIST Handwritten Digit Classification \n",
        "\n",
        "MNIST handwritten digit classification build up of 70,000 grayscale images(60k for training, 10k for testing).\n",
        "\n",
        "Single digit classification from 0 to 9"
      ],
      "metadata": {
        "id": "rYVEDDwnl6pe"
      }
    },
    {
      "cell_type": "markdown",
      "source": [
        "### Importing Libraries"
      ],
      "metadata": {
        "id": "XQV_8r1dmNau"
      }
    },
    {
      "cell_type": "code",
      "execution_count": 24,
      "metadata": {
        "colab": {
          "base_uri": "https://localhost:8080/"
        },
        "id": "4XDtrnb02e8O",
        "outputId": "56d7db7a-5860-4538-d42a-ca51796a7c68"
      },
      "outputs": [
        {
          "output_type": "stream",
          "name": "stdout",
          "text": [
            "`%tensorflow_version` only switches the major version: 1.x or 2.x.\n",
            "You set: `2.x  # this line is not required unless you are in a notebook`. This will be interpreted as: `2.x`.\n",
            "\n",
            "\n",
            "TensorFlow is already loaded. Please restart the runtime to change versions.\n"
          ]
        }
      ],
      "source": [
        "%tensorflow_version 2.x  # this line is not required unless you are in a notebook\n",
        "# TensorFlow and tf.keras\n",
        "import tensorflow as tf\n",
        "from tensorflow import keras\n",
        "\n",
        "# Helper libraries\n",
        "import numpy as np\n",
        "import matplotlib.pyplot as plt"
      ]
    },
    {
      "cell_type": "markdown",
      "source": [
        "### Loading Dataset from Keras\n",
        "\n",
        "Dataset contains 60,000 images for training and 10,000 images for testing.\n",
        "\n",
        "Size of each image is 28*28 pixel"
      ],
      "metadata": {
        "id": "84kiT4uZmbiP"
      }
    },
    {
      "cell_type": "code",
      "source": [
        "mnist = tf.keras.datasets.mnist # Object of the MNIST dataset\n",
        "(train_images, train_labels), (test_images, test_labels) = mnist.load_data() # Load data"
      ],
      "metadata": {
        "id": "zkEU-7et5WiV"
      },
      "execution_count": 25,
      "outputs": []
    },
    {
      "cell_type": "code",
      "source": [
        "train_images.shape"
      ],
      "metadata": {
        "colab": {
          "base_uri": "https://localhost:8080/"
        },
        "id": "jKN5_8s65piJ",
        "outputId": "ccc3b013-ca09-48c2-e673-050f81a59f3a"
      },
      "execution_count": 26,
      "outputs": [
        {
          "output_type": "execute_result",
          "data": {
            "text/plain": [
              "(60000, 28, 28)"
            ]
          },
          "metadata": {},
          "execution_count": 26
        }
      ]
    },
    {
      "cell_type": "code",
      "source": [
        "test_images.shape"
      ],
      "metadata": {
        "colab": {
          "base_uri": "https://localhost:8080/"
        },
        "id": "FrQdzEQvnEPq",
        "outputId": "4b55d933-9f84-43cc-d645-0adf17b1544f"
      },
      "execution_count": 27,
      "outputs": [
        {
          "output_type": "execute_result",
          "data": {
            "text/plain": [
              "(10000, 28, 28)"
            ]
          },
          "metadata": {},
          "execution_count": 27
        }
      ]
    },
    {
      "cell_type": "code",
      "source": [
        "np.unique(train_labels)"
      ],
      "metadata": {
        "colab": {
          "base_uri": "https://localhost:8080/"
        },
        "id": "9ADHmdMa8aFJ",
        "outputId": "be3e85d0-7e31-46ed-ad66-4e93c8a5cdf3"
      },
      "execution_count": 28,
      "outputs": [
        {
          "output_type": "execute_result",
          "data": {
            "text/plain": [
              "array([0, 1, 2, 3, 4, 5, 6, 7, 8, 9], dtype=uint8)"
            ]
          },
          "metadata": {},
          "execution_count": 28
        }
      ]
    },
    {
      "cell_type": "markdown",
      "source": [
        "###Plotting\n",
        "\n",
        "Verifying the class labels by visually plotting them."
      ],
      "metadata": {
        "id": "vgI1GS_4nizZ"
      }
    },
    {
      "cell_type": "code",
      "source": [
        "train_labels[:4]"
      ],
      "metadata": {
        "colab": {
          "base_uri": "https://localhost:8080/"
        },
        "id": "pis2gHKg5xra",
        "outputId": "a4c7d193-772f-4049-f3f2-88b386901dd7"
      },
      "execution_count": 29,
      "outputs": [
        {
          "output_type": "execute_result",
          "data": {
            "text/plain": [
              "array([5, 0, 4, 1], dtype=uint8)"
            ]
          },
          "metadata": {},
          "execution_count": 29
        }
      ]
    },
    {
      "cell_type": "code",
      "source": [
        "fig = plt.figure()\n",
        "rows = 2\n",
        "columns = 2\n",
        "for i in range(4):\n",
        "  fig.add_subplot(rows, columns, i + 1)\n",
        "  plt.imshow(train_images[i], cmap='gray')\n",
        "  plt.colorbar()\n",
        "plt.show()"
      ],
      "metadata": {
        "colab": {
          "base_uri": "https://localhost:8080/",
          "height": 268
        },
        "id": "TeG3YLdo59vn",
        "outputId": "c0b57d1c-4ec0-422c-eb96-e8df3fb22c1c"
      },
      "execution_count": 30,
      "outputs": [
        {
          "output_type": "display_data",
          "data": {
            "text/plain": [
              "<Figure size 432x288 with 8 Axes>"
            ],
            "image/png": "[encoded data removed]"
          },
          "metadata": {
            "needs_background": "light"
          }
        }
      ]
    },
    {
      "cell_type": "markdown",
      "source": [
        "### Data Pre-Processing\n",
        "\n",
        "Grayscale image are in the range of 0-255 pixels. We will scale them between 0-1. "
      ],
      "metadata": {
        "id": "awkL-Xy5njs7"
      }
    },
    {
      "cell_type": "code",
      "source": [
        "train_images = train_images / 255.0\n",
        "\n",
        "test_images = test_images / 255.0"
      ],
      "metadata": {
        "id": "fqNOkVldnbWr"
      },
      "execution_count": 31,
      "outputs": []
    },
    {
      "cell_type": "markdown",
      "source": [
        "###Build the Model\n",
        "\n",
        "Using Sequantial Feed Forward Neural Network by Keras. \n",
        "\n",
        "We will have 3 layers.\n",
        "\n",
        "\n",
        "**First layer** will have input of 784 neurons as image size is 28*28 (784 pixels) so one neuron for one pixel.\n",
        "\n",
        "\n",
        "**Second layer** is hidden layer having activation function of relu. It has 128 neurons.\n",
        "\n",
        "\n",
        "**Third layer** is output layer which will contain 10 neurons as we are classifying digits in the range of 0-9."
      ],
      "metadata": {
        "id": "hbshIqxtokYX"
      }
    },
    {
      "cell_type": "code",
      "source": [
        "model = keras.Sequential([\n",
        "    keras.layers.Flatten(input_shape=(28, 28)),  # input layer (1)\n",
        "    keras.layers.Dense(128, activation='relu'),  # hidden layer (2)\n",
        "    keras.layers.Dense(10, activation='softmax') # output layer (3)\n",
        "])"
      ],
      "metadata": {
        "id": "X_pB2RPnonMm"
      },
      "execution_count": 32,
      "outputs": []
    },
    {
      "cell_type": "code",
      "source": [
        "model.compile(optimizer='adam',\n",
        "              loss='sparse_categorical_crossentropy',\n",
        "              metrics=['accuracy'])"
      ],
      "metadata": {
        "id": "JY3gAuDs-ccy"
      },
      "execution_count": 33,
      "outputs": []
    },
    {
      "cell_type": "markdown",
      "source": [
        ""
      ],
      "metadata": {
        "id": "Lf0j76e1ACKC"
      }
    },
    {
      "cell_type": "markdown",
      "source": [
        "### Training the Model\n",
        "\n",
        "Training our neural network and setting epochs value to 10 so it will run 10 times to train itself and produce better results.\n"
      ],
      "metadata": {
        "id": "POxzZK1A-ukw"
      }
    },
    {
      "cell_type": "code",
      "source": [
        "model.fit(train_images, train_labels, epochs=10)  # we pass the data, labels and epochs and watch the magic!"
      ],
      "metadata": {
        "colab": {
          "base_uri": "https://localhost:8080/"
        },
        "id": "rXzABH42-0i8",
        "outputId": "87a4b78e-0161-4214-af54-f3c7e14758ef"
      },
      "execution_count": 34,
      "outputs": [
        {
          "output_type": "stream",
          "name": "stdout",
          "text": [
            "Epoch 1/10\n",
            "1875/1875 [==============================] - 6s 3ms/step - loss: 0.2555 - accuracy: 0.9279\n",
            "Epoch 2/10\n",
            "1875/1875 [==============================] - 6s 3ms/step - loss: 0.1106 - accuracy: 0.9669\n",
            "Epoch 3/10\n",
            "1875/1875 [==============================] - 6s 3ms/step - loss: 0.0767 - accuracy: 0.9768\n",
            "Epoch 4/10\n",
            "1875/1875 [==============================] - 5s 3ms/step - loss: 0.0568 - accuracy: 0.9826\n",
            "Epoch 5/10\n",
            "1875/1875 [==============================] - 5s 3ms/step - loss: 0.0438 - accuracy: 0.9866\n",
            "Epoch 6/10\n",
            "1875/1875 [==============================] - 6s 3ms/step - loss: 0.0344 - accuracy: 0.9894\n",
            "Epoch 7/10\n",
            "1875/1875 [==============================] - 6s 3ms/step - loss: 0.0283 - accuracy: 0.9910\n",
            "Epoch 8/10\n",
            "1875/1875 [==============================] - 6s 3ms/step - loss: 0.0238 - accuracy: 0.9924\n",
            "Epoch 9/10\n",
            "1875/1875 [==============================] - 5s 3ms/step - loss: 0.0185 - accuracy: 0.9946\n",
            "Epoch 10/10\n",
            "1875/1875 [==============================] - 5s 3ms/step - loss: 0.0157 - accuracy: 0.9952\n"
          ]
        },
        {
          "output_type": "execute_result",
          "data": {
            "text/plain": [
              "<keras.callbacks.History at 0x7f4ad0434890>"
            ]
          },
          "metadata": {},
          "execution_count": 34
        }
      ]
    },
    {
      "cell_type": "markdown",
      "source": [
        "### Evaluate the Model\n",
        "\n",
        "Checking the model accuracy by running it on our testing dataset.\n"
      ],
      "metadata": {
        "id": "Zg3AWpHO_bZ6"
      }
    },
    {
      "cell_type": "code",
      "source": [
        "test_loss, test_acc = model.evaluate(test_images,  test_labels, verbose=1) \n",
        "\n",
        "print('Test accuracy:', test_acc)"
      ],
      "metadata": {
        "colab": {
          "base_uri": "https://localhost:8080/"
        },
        "id": "0mZxSTMD_d3i",
        "outputId": "589097e6-198f-46e0-b55e-175b97e4a432"
      },
      "execution_count": 35,
      "outputs": [
        {
          "output_type": "stream",
          "name": "stdout",
          "text": [
            "313/313 [==============================] - 1s 2ms/step - loss: 0.0763 - accuracy: 0.9777\n",
            "Test accuracy: 0.9776999950408936\n"
          ]
        }
      ]
    },
    {
      "cell_type": "markdown",
      "source": [
        "### Predicting the Model"
      ],
      "metadata": {
        "id": "4h7Jsfh8_0BD"
      }
    },
    {
      "cell_type": "code",
      "source": [
        "predictions = model.predict(test_images)"
      ],
      "metadata": {
        "id": "zkzlKATl_oqz"
      },
      "execution_count": 36,
      "outputs": []
    },
    {
      "cell_type": "markdown",
      "source": [
        "We have used **softmax** as an activation function which sums all the values to 1. These can be interpreted as probabilities."
      ],
      "metadata": {
        "id": "AAnb1paJAYES"
      }
    },
    {
      "cell_type": "code",
      "source": [
        "predictions[0]"
      ],
      "metadata": {
        "colab": {
          "base_uri": "https://localhost:8080/"
        },
        "id": "DkbVY_V2AQV4",
        "outputId": "ba2ae343-e9b7-4012-d730-5a3d79caa8c8"
      },
      "execution_count": 37,
      "outputs": [
        {
          "output_type": "execute_result",
          "data": {
            "text/plain": [
              "array([3.6688027e-13, 5.3479464e-11, 2.9677244e-08, 2.4114954e-05,\n",
              "       2.8240145e-14, 1.5967488e-09, 1.0081334e-16, 9.9997568e-01,\n",
              "       8.3191853e-09, 2.6217131e-07], dtype=float32)"
            ]
          },
          "metadata": {},
          "execution_count": 37
        }
      ]
    },
    {
      "cell_type": "markdown",
      "source": [
        "### Verifying the Predictions\n",
        "\n",
        "We will verify our model predictions by comparing it with testing dataset. For that, we will predict 4 classes and see the results."
      ],
      "metadata": {
        "id": "TWnUp-t8BxhJ"
      }
    },
    {
      "cell_type": "code",
      "source": [
        "for i in range(4):\n",
        "  print(np.argmax(predictions[i]))"
      ],
      "metadata": {
        "colab": {
          "base_uri": "https://localhost:8080/"
        },
        "id": "S0qQ2X8mASi3",
        "outputId": "3d0419bd-4adf-4a78-dbba-c4e385fc20a3"
      },
      "execution_count": 38,
      "outputs": [
        {
          "output_type": "stream",
          "name": "stdout",
          "text": [
            "7\n",
            "2\n",
            "1\n",
            "0\n"
          ]
        }
      ]
    },
    {
      "cell_type": "code",
      "source": [
        "test_labels[:4]"
      ],
      "metadata": {
        "colab": {
          "base_uri": "https://localhost:8080/"
        },
        "id": "AQp2GGmCAWwZ",
        "outputId": "d48e27e5-91aa-48aa-a037-3163fad6cc74"
      },
      "execution_count": 39,
      "outputs": [
        {
          "output_type": "execute_result",
          "data": {
            "text/plain": [
              "array([7, 2, 1, 0], dtype=uint8)"
            ]
          },
          "metadata": {},
          "execution_count": 39
        }
      ]
    },
    {
      "cell_type": "code",
      "source": [
        "fig = plt.figure()\n",
        "rows = 2\n",
        "columns = 2\n",
        "for i in range(4):\n",
        "  fig.add_subplot(rows, columns, i + 1)\n",
        "  plt.imshow(test_images[i], cmap='gray')\n",
        "  plt.colorbar()\n",
        "plt.show()"
      ],
      "metadata": {
        "colab": {
          "base_uri": "https://localhost:8080/",
          "height": 269
        },
        "id": "BnPDcTOaAibF",
        "outputId": "0c574137-1bd8-4680-c32e-5fe0fa48625b"
      },
      "execution_count": 40,
      "outputs": [
        {
          "output_type": "display_data",
          "data": {
            "text/plain": [
              "<Figure size 432x288 with 8 Axes>"
            ],
            "image/png": "[encoded data removed]"
          },
          "metadata": {
            "needs_background": "light"
          }
        }
      ]
    }
  ]
}